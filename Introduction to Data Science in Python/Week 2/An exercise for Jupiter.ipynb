{
 "cells": [
  {
   "cell_type": "code",
   "execution_count": 1,
   "metadata": {},
   "outputs": [
    {
     "data": {
      "text/html": [
       "<div>\n",
       "<style scoped>\n",
       "    .dataframe tbody tr th:only-of-type {\n",
       "        vertical-align: middle;\n",
       "    }\n",
       "\n",
       "    .dataframe tbody tr th {\n",
       "        vertical-align: top;\n",
       "    }\n",
       "\n",
       "    .dataframe thead th {\n",
       "        text-align: right;\n",
       "    }\n",
       "</style>\n",
       "<table border=\"1\" class=\"dataframe\">\n",
       "  <thead>\n",
       "    <tr style=\"text-align: right;\">\n",
       "      <th></th>\n",
       "      <th>0</th>\n",
       "      <th>1</th>\n",
       "      <th>2</th>\n",
       "      <th>3</th>\n",
       "      <th>4</th>\n",
       "      <th>5</th>\n",
       "      <th>6</th>\n",
       "      <th>7</th>\n",
       "      <th>8</th>\n",
       "      <th>9</th>\n",
       "      <th>10</th>\n",
       "      <th>11</th>\n",
       "      <th>12</th>\n",
       "      <th>13</th>\n",
       "      <th>14</th>\n",
       "      <th>15</th>\n",
       "    </tr>\n",
       "  </thead>\n",
       "  <tbody>\n",
       "    <tr>\n",
       "      <th>0</th>\n",
       "      <td>NaN</td>\n",
       "      <td>№ Summer</td>\n",
       "      <td>01 !</td>\n",
       "      <td>02 !</td>\n",
       "      <td>03 !</td>\n",
       "      <td>Total</td>\n",
       "      <td>№ Winter</td>\n",
       "      <td>01 !</td>\n",
       "      <td>02 !</td>\n",
       "      <td>03 !</td>\n",
       "      <td>Total</td>\n",
       "      <td>№ Games</td>\n",
       "      <td>01 !</td>\n",
       "      <td>02 !</td>\n",
       "      <td>03 !</td>\n",
       "      <td>Combined total</td>\n",
       "    </tr>\n",
       "    <tr>\n",
       "      <th>1</th>\n",
       "      <td>Afghanistan (AFG)</td>\n",
       "      <td>13</td>\n",
       "      <td>0</td>\n",
       "      <td>0</td>\n",
       "      <td>2</td>\n",
       "      <td>2</td>\n",
       "      <td>0</td>\n",
       "      <td>0</td>\n",
       "      <td>0</td>\n",
       "      <td>0</td>\n",
       "      <td>0</td>\n",
       "      <td>13</td>\n",
       "      <td>0</td>\n",
       "      <td>0</td>\n",
       "      <td>2</td>\n",
       "      <td>2</td>\n",
       "    </tr>\n",
       "    <tr>\n",
       "      <th>2</th>\n",
       "      <td>Algeria (ALG)</td>\n",
       "      <td>12</td>\n",
       "      <td>5</td>\n",
       "      <td>2</td>\n",
       "      <td>8</td>\n",
       "      <td>15</td>\n",
       "      <td>3</td>\n",
       "      <td>0</td>\n",
       "      <td>0</td>\n",
       "      <td>0</td>\n",
       "      <td>0</td>\n",
       "      <td>15</td>\n",
       "      <td>5</td>\n",
       "      <td>2</td>\n",
       "      <td>8</td>\n",
       "      <td>15</td>\n",
       "    </tr>\n",
       "    <tr>\n",
       "      <th>3</th>\n",
       "      <td>Argentina (ARG)</td>\n",
       "      <td>23</td>\n",
       "      <td>18</td>\n",
       "      <td>24</td>\n",
       "      <td>28</td>\n",
       "      <td>70</td>\n",
       "      <td>18</td>\n",
       "      <td>0</td>\n",
       "      <td>0</td>\n",
       "      <td>0</td>\n",
       "      <td>0</td>\n",
       "      <td>41</td>\n",
       "      <td>18</td>\n",
       "      <td>24</td>\n",
       "      <td>28</td>\n",
       "      <td>70</td>\n",
       "    </tr>\n",
       "    <tr>\n",
       "      <th>4</th>\n",
       "      <td>Armenia (ARM)</td>\n",
       "      <td>5</td>\n",
       "      <td>1</td>\n",
       "      <td>2</td>\n",
       "      <td>9</td>\n",
       "      <td>12</td>\n",
       "      <td>6</td>\n",
       "      <td>0</td>\n",
       "      <td>0</td>\n",
       "      <td>0</td>\n",
       "      <td>0</td>\n",
       "      <td>11</td>\n",
       "      <td>1</td>\n",
       "      <td>2</td>\n",
       "      <td>9</td>\n",
       "      <td>12</td>\n",
       "    </tr>\n",
       "  </tbody>\n",
       "</table>\n",
       "</div>"
      ],
      "text/plain": [
       "                   0         1     2     3     4      5         6     7     8  \\\n",
       "0                NaN  № Summer  01 !  02 !  03 !  Total  № Winter  01 !  02 !   \n",
       "1  Afghanistan (AFG)        13     0     0     2      2         0     0     0   \n",
       "2      Algeria (ALG)        12     5     2     8     15         3     0     0   \n",
       "3    Argentina (ARG)        23    18    24    28     70        18     0     0   \n",
       "4      Armenia (ARM)         5     1     2     9     12         6     0     0   \n",
       "\n",
       "      9     10       11    12    13    14              15  \n",
       "0  03 !  Total  № Games  01 !  02 !  03 !  Combined total  \n",
       "1     0      0       13     0     0     2               2  \n",
       "2     0      0       15     5     2     8              15  \n",
       "3     0      0       41    18    24    28              70  \n",
       "4     0      0       11     1     2     9              12  "
      ]
     },
     "execution_count": 1,
     "metadata": {},
     "output_type": "execute_result"
    }
   ],
   "source": [
    "import pandas as pd\n",
    "df = pd.read_csv('olympics.csv')\n",
    "df.head()\n"
   ]
  },
  {
   "cell_type": "code",
   "execution_count": 2,
   "metadata": {
    "scrolled": true
   },
   "outputs": [
    {
     "data": {
      "text/plain": [
       "Index(['0', '1', '2', '3', '4', '5', '6', '7', '8', '9', '10', '11', '12',\n",
       "       '13', '14', '15'],\n",
       "      dtype='object')"
      ]
     },
     "execution_count": 2,
     "metadata": {},
     "output_type": "execute_result"
    }
   ],
   "source": [
    "df.columns"
   ]
  },
  {
   "cell_type": "code",
   "execution_count": 4,
   "metadata": {},
   "outputs": [
    {
     "data": {
      "text/plain": [
       "2"
      ]
     },
     "execution_count": 4,
     "metadata": {},
     "output_type": "execute_result"
    }
   ],
   "source": [
    "1+1"
   ]
  },
  {
   "cell_type": "code",
   "execution_count": 6,
   "metadata": {},
   "outputs": [
    {
     "name": "stdout",
     "output_type": "stream",
     "text": [
      "                          1     2     3     4      5         6     7     8  \\\n",
      "0                                                                            \n",
      "NaN                № Summer  01 !  02 !  03 !  Total  № Winter  01 !  02 !   \n",
      "Afghanistan (AFG)        13     0     0     2      2         0     0     0   \n",
      "Algeria (ALG)            12     5     2     8     15         3     0     0   \n",
      "Argentina (ARG)          23    18    24    28     70        18     0     0   \n",
      "Armenia (ARM)             5     1     2     9     12         6     0     0   \n",
      "\n",
      "                      9     10       11    12    13    14              15  \n",
      "0                                                                          \n",
      "NaN                03 !  Total  № Games  01 !  02 !  03 !  Combined total  \n",
      "Afghanistan (AFG)     0      0       13     0     0     2               2  \n",
      "Algeria (ALG)         0      0       15     5     2     8              15  \n",
      "Argentina (ARG)       0      0       41    18    24    28              70  \n",
      "Armenia (ARM)         0      0       11     1     2     9              12  \n"
     ]
    }
   ],
   "source": [
    "df = pd.read_csv('olympics.csv',index_col = 0, skiprows = 0)\n",
    "print(df.head())"
   ]
  },
  {
   "cell_type": "code",
   "execution_count": 7,
   "metadata": {},
   "outputs": [
    {
     "name": "stdout",
     "output_type": "stream",
     "text": [
      "         time    user       video  playback position paused  volume\n",
      "0  1469974424  cheryl  intro.html                  5  False    10.0\n",
      "1  1469974454  cheryl  intro.html                  6    NaN     NaN\n",
      "2  1469974544  cheryl  intro.html                  9    NaN     NaN\n",
      "3  1469974574  cheryl  intro.html                 10    NaN     NaN\n",
      "4  1469977514     bob  intro.html                  1    NaN     NaN\n"
     ]
    }
   ],
   "source": [
    "df = pd.read_csv('log.csv')\n",
    "print(df.head())\n"
   ]
  },
  {
   "cell_type": "code",
   "execution_count": 10,
   "metadata": {},
   "outputs": [
    {
     "name": "stdout",
     "output_type": "stream",
     "text": [
      "          time    user          video  playback position paused  volume\n",
      "0   1469974424  cheryl     intro.html                  5  False    10.0\n",
      "1   1469974454  cheryl     intro.html                  6      0     NaN\n",
      "2   1469974544  cheryl     intro.html                  9      0     NaN\n",
      "3   1469974574  cheryl     intro.html                 10      0     NaN\n",
      "4   1469977514     bob     intro.html                  1      0     NaN\n",
      "5   1469977544     bob     intro.html                  1      0     NaN\n",
      "6   1469977574     bob     intro.html                  1      0     NaN\n",
      "7   1469977604     bob     intro.html                  1      0     NaN\n",
      "8   1469974604  cheryl     intro.html                 11      0     NaN\n",
      "9   1469974694  cheryl     intro.html                 14      0     NaN\n",
      "10  1469974724  cheryl     intro.html                 15      0     NaN\n",
      "11  1469974454     sue  advanced.html                 24      0     NaN\n",
      "12  1469974524     sue  advanced.html                 25      0     NaN\n",
      "13  1469974424     sue  advanced.html                 23  False    10.0\n",
      "14  1469974554     sue  advanced.html                 26      0     NaN\n",
      "15  1469974624     sue  advanced.html                 27      0     NaN\n",
      "16  1469974654     sue  advanced.html                 28      0     5.0\n",
      "17  1469974724     sue  advanced.html                 29      0     NaN\n",
      "18  1469974484  cheryl     intro.html                  7      0     NaN\n",
      "19  1469974514  cheryl     intro.html                  8      0     NaN\n",
      "20  1469974754     sue  advanced.html                 30      0     NaN\n",
      "21  1469974824     sue  advanced.html                 31      0     NaN\n",
      "22  1469974854     sue  advanced.html                 32      0     NaN\n",
      "23  1469974924     sue  advanced.html                 33      0     NaN\n",
      "24  1469977424     bob     intro.html                  1   True    10.0\n",
      "25  1469977454     bob     intro.html                  1      0     NaN\n",
      "26  1469977484     bob     intro.html                  1      0     NaN\n",
      "27  1469977634     bob     intro.html                  1      0     NaN\n",
      "28  1469977664     bob     intro.html                  1      0     NaN\n",
      "29  1469974634  cheryl     intro.html                 12      0     NaN\n",
      "30  1469974664  cheryl     intro.html                 13      0     NaN\n",
      "31  1469977694     bob     intro.html                  1      0     NaN\n",
      "32  1469977724     bob     intro.html                  1      0     NaN\n"
     ]
    }
   ],
   "source": [
    "df = df.fillna({'paused':0,'volumn':10.0})\n",
    "print(df)"
   ]
  }
 ],
 "metadata": {
  "kernelspec": {
   "display_name": "Python 3",
   "language": "python",
   "name": "python3"
  },
  "language_info": {
   "codemirror_mode": {
    "name": "ipython",
    "version": 3
   },
   "file_extension": ".py",
   "mimetype": "text/x-python",
   "name": "python",
   "nbconvert_exporter": "python",
   "pygments_lexer": "ipython3",
   "version": "3.7.0"
  }
 },
 "nbformat": 4,
 "nbformat_minor": 2
}
