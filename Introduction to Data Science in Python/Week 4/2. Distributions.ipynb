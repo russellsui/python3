{
 "cells": [
  {
   "cell_type": "markdown",
   "metadata": {},
   "source": [
    "# Distributions in Pandas"
   ]
  },
  {
   "cell_type": "code",
   "execution_count": 51,
   "metadata": {},
   "outputs": [
    {
     "data": {
      "text/plain": [
       "4"
      ]
     },
     "execution_count": 51,
     "metadata": {},
     "output_type": "execute_result"
    }
   ],
   "source": [
    "import pandas as pd\n",
    "import numpy as np\n",
    "# binomial distribution simulation, n = # of trials, p = probability of success\n",
    "# this is actually like sum(1 to n) x_i\n",
    "np.random.binomial(10,0.3)"
   ]
  },
  {
   "cell_type": "code",
   "execution_count": 55,
   "metadata": {},
   "outputs": [
    {
     "data": {
      "text/plain": [
       "0.502"
      ]
     },
     "execution_count": 55,
     "metadata": {},
     "output_type": "execute_result"
    }
   ],
   "source": [
    "# estimate of p\n",
    "np.random.binomial(1000,0.5)/1000"
   ]
  },
  {
   "cell_type": "code",
   "execution_count": 60,
   "metadata": {},
   "outputs": [
    {
     "data": {
      "text/plain": [
       "64"
      ]
     },
     "execution_count": 60,
     "metadata": {},
     "output_type": "execute_result"
    }
   ],
   "source": [
    "# Exercise\n",
    "# actually if size>1, it will returns an array of results, each is the sum of a single chunk of trial\n",
    "array = np.random.binomial(20,0.5,size = 10000)\n",
    "array = array[array > 15]\n",
    "len(array)"
   ]
  },
  {
   "cell_type": "code",
   "execution_count": 71,
   "metadata": {},
   "outputs": [
    {
     "data": {
      "text/plain": [
       "5"
      ]
     },
     "execution_count": 71,
     "metadata": {},
     "output_type": "execute_result"
    }
   ],
   "source": [
    "# we could also have an event that happens with a probability that is not 0.5\n",
    "chance_of_tornado = 0.01/100\n",
    "np.random.binomial(100000,chance_of_tornado)"
   ]
  },
  {
   "cell_type": "code",
   "execution_count": 79,
   "metadata": {},
   "outputs": [
    {
     "name": "stdout",
     "output_type": "stream",
     "text": [
      "[0 0 0 ... 0 0 0]\n",
      "107\n",
      "there are 107 back-to-back tornadoes within 2739.72602739726 years\n"
     ]
    }
   ],
   "source": [
    "# we could simulate the tornadoes two days in a row\n",
    "chance_of_tornado = 0.01\n",
    "# first create an array of random variables represents if there is a tornado in day ith\n",
    "tornado_events = np.random.binomial(1,chance_of_tornado, size = 1000000)\n",
    "\n",
    "two_days_in_a_row = 0\n",
    "# loop through the array, if the back to back elements all 1, then there is a tornado back to back\n",
    "for i in range(1,len(tornado_events)-1):\n",
    "    if (tornado_events[i] == 1) and (tornado_events[i+1] == 1):\n",
    "        two_days_in_a_row += 1\n",
    "print(tornado_events)\n",
    "print(two_days_in_a_row)\n",
    "\n",
    "# use the statement.format to fill in the blanks\n",
    "statement = 'there are {} back-to-back tornadoes within {} years'\n",
    "statement = statement.format(two_days_in_a_row, 1000000/365)\n",
    "print(statement)"
   ]
  }
 ],
 "metadata": {
  "kernelspec": {
   "display_name": "Python 3",
   "language": "python",
   "name": "python3"
  },
  "language_info": {
   "codemirror_mode": {
    "name": "ipython",
    "version": 3
   },
   "file_extension": ".py",
   "mimetype": "text/x-python",
   "name": "python",
   "nbconvert_exporter": "python",
   "pygments_lexer": "ipython3",
   "version": "3.7.0"
  }
 },
 "nbformat": 4,
 "nbformat_minor": 2
}
