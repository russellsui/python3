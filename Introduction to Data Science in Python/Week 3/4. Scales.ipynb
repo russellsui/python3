{
 "cells": [
  {
   "cell_type": "code",
   "execution_count": null,
   "metadata": {},
   "outputs": [],
   "source": [
    "### Scales\n",
    "# (a,b)  (c,d): Scales\n",
    "\"\"\"\n",
    "- Ratio scale:\n",
    "  - units are equally spaced\n",
    "  - mathematical operations of +-*/ are all valid\n",
    "  - E.g. height and weight\n",
    "  \n",
    "- Interval scale:\n",
    "  - units are equally spaced, but there is no true zero\n",
    "\n",
    "- Ordinal scale:\n",
    "  - the order of the units are important, but not evenly spaced\n",
    "  - Letter grades such as A+, A are a good example\n",
    "\n",
    "- Nominal scale:\n",
    "  - categories of data, but the categories have no order with respect to one another\n",
    "  - E.g.Teams of a sport\n",
    "\"\"\""
   ]
  },
  {
   "cell_type": "code",
   "execution_count": 3,
   "metadata": {},
   "outputs": [
    {
     "data": {
      "text/html": [
       "<div>\n",
       "<style scoped>\n",
       "    .dataframe tbody tr th:only-of-type {\n",
       "        vertical-align: middle;\n",
       "    }\n",
       "\n",
       "    .dataframe tbody tr th {\n",
       "        vertical-align: top;\n",
       "    }\n",
       "\n",
       "    .dataframe thead th {\n",
       "        text-align: right;\n",
       "    }\n",
       "</style>\n",
       "<table border=\"1\" class=\"dataframe\">\n",
       "  <thead>\n",
       "    <tr style=\"text-align: right;\">\n",
       "      <th></th>\n",
       "      <th>Grades</th>\n",
       "    </tr>\n",
       "  </thead>\n",
       "  <tbody>\n",
       "    <tr>\n",
       "      <th>excellent</th>\n",
       "      <td>A+</td>\n",
       "    </tr>\n",
       "    <tr>\n",
       "      <th>excellent</th>\n",
       "      <td>A</td>\n",
       "    </tr>\n",
       "    <tr>\n",
       "      <th>excellent</th>\n",
       "      <td>A-</td>\n",
       "    </tr>\n",
       "    <tr>\n",
       "      <th>good</th>\n",
       "      <td>B+</td>\n",
       "    </tr>\n",
       "    <tr>\n",
       "      <th>good</th>\n",
       "      <td>B</td>\n",
       "    </tr>\n",
       "    <tr>\n",
       "      <th>good</th>\n",
       "      <td>B-</td>\n",
       "    </tr>\n",
       "    <tr>\n",
       "      <th>ok</th>\n",
       "      <td>C+</td>\n",
       "    </tr>\n",
       "    <tr>\n",
       "      <th>ok</th>\n",
       "      <td>C</td>\n",
       "    </tr>\n",
       "    <tr>\n",
       "      <th>ok</th>\n",
       "      <td>C-</td>\n",
       "    </tr>\n",
       "    <tr>\n",
       "      <th>poor</th>\n",
       "      <td>D+</td>\n",
       "    </tr>\n",
       "    <tr>\n",
       "      <th>poor</th>\n",
       "      <td>D</td>\n",
       "    </tr>\n",
       "  </tbody>\n",
       "</table>\n",
       "</div>"
      ],
      "text/plain": [
       "          Grades\n",
       "excellent     A+\n",
       "excellent      A\n",
       "excellent     A-\n",
       "good          B+\n",
       "good           B\n",
       "good          B-\n",
       "ok            C+\n",
       "ok             C\n",
       "ok            C-\n",
       "poor          D+\n",
       "poor           D"
      ]
     },
     "execution_count": 3,
     "metadata": {},
     "output_type": "execute_result"
    }
   ],
   "source": [
    "import pandas as pd\n",
    "df = pd.DataFrame(['A+','A','A-','B+','B','B-','C+','C','C-','D+','D'],\n",
    "                  index = ['excellent','excellent','excellent','good','good','good','ok','ok',\n",
    "                           'ok','poor','poor'])\n",
    "df.rename(columns = {0:'Grades'}, inplace = True)\n",
    "df"
   ]
  },
  {
   "cell_type": "code",
   "execution_count": 4,
   "metadata": {},
   "outputs": [
    {
     "data": {
      "text/plain": [
       "excellent    A+\n",
       "excellent     A\n",
       "excellent    A-\n",
       "good         B+\n",
       "good          B\n",
       "good         B-\n",
       "ok           C+\n",
       "ok            C\n",
       "ok           C-\n",
       "poor         D+\n",
       "poor          D\n",
       "Name: Grades, dtype: category\n",
       "Categories (11, object): [A, A+, A-, B, ..., C+, C-, D, D+]"
      ]
     },
     "execution_count": 4,
     "metadata": {},
     "output_type": "execute_result"
    }
   ],
   "source": [
    "# then we could use astype to transform thest data into categorical data\n",
    "df['Grades'].astype('category')\n"
   ]
  },
  {
   "cell_type": "code",
   "execution_count": 5,
   "metadata": {},
   "outputs": [
    {
     "name": "stderr",
     "output_type": "stream",
     "text": [
      "/Library/Frameworks/Python.framework/Versions/3.7/lib/python3.7/site-packages/ipykernel_launcher.py:8: FutureWarning: specifying 'categories' or 'ordered' in .astype() is deprecated; pass a CategoricalDtype instead\n",
      "  \n"
     ]
    },
    {
     "data": {
      "text/plain": [
       "excellent    A+\n",
       "excellent     A\n",
       "excellent    A-\n",
       "good         B+\n",
       "good          B\n",
       "good         B-\n",
       "ok           C+\n",
       "ok            C\n",
       "ok           C-\n",
       "poor         D+\n",
       "poor          D\n",
       "Name: Grades, dtype: category\n",
       "Categories (11, object): [D < D+ < C- < C ... B+ < A- < A < A+]"
      ]
     },
     "execution_count": 5,
     "metadata": {},
     "output_type": "execute_result"
    }
   ],
   "source": [
    "import pandas as pd\n",
    "df = pd.DataFrame(['A+','A','A-','B+','B','B-','C+','C','C-','D+','D'],\n",
    "                  index = ['excellent','excellent','excellent','good','good','good','ok','ok',\n",
    "                           'ok','poor','poor'])\n",
    "df.rename(columns = {0:'Grades'}, inplace = True)\n",
    "# we could also make the grades in an ordinal order by using ordered\n",
    "grades = df['Grades'].astype('category',categories = ['D','D+','C-','C','C+','B-','B','B+','A-',\n",
    "                                                      'A','A+'],ordered = True)\n",
    "grades"
   ]
  },
  {
   "cell_type": "code",
   "execution_count": 7,
   "metadata": {},
   "outputs": [
    {
     "data": {
      "text/html": [
       "<div>\n",
       "<style scoped>\n",
       "    .dataframe tbody tr th:only-of-type {\n",
       "        vertical-align: middle;\n",
       "    }\n",
       "\n",
       "    .dataframe tbody tr th {\n",
       "        vertical-align: top;\n",
       "    }\n",
       "\n",
       "    .dataframe thead th {\n",
       "        text-align: right;\n",
       "    }\n",
       "</style>\n",
       "<table border=\"1\" class=\"dataframe\">\n",
       "  <thead>\n",
       "    <tr style=\"text-align: right;\">\n",
       "      <th></th>\n",
       "      <th>Grades</th>\n",
       "    </tr>\n",
       "  </thead>\n",
       "  <tbody>\n",
       "    <tr>\n",
       "      <th>ok</th>\n",
       "      <td>C+</td>\n",
       "    </tr>\n",
       "    <tr>\n",
       "      <th>ok</th>\n",
       "      <td>C-</td>\n",
       "    </tr>\n",
       "    <tr>\n",
       "      <th>poor</th>\n",
       "      <td>D+</td>\n",
       "    </tr>\n",
       "    <tr>\n",
       "      <th>poor</th>\n",
       "      <td>D</td>\n",
       "    </tr>\n",
       "  </tbody>\n",
       "</table>\n",
       "</div>"
      ],
      "text/plain": [
       "     Grades\n",
       "ok       C+\n",
       "ok       C-\n",
       "poor     D+\n",
       "poor      D"
      ]
     },
     "execution_count": 7,
     "metadata": {},
     "output_type": "execute_result"
    }
   ],
   "source": [
    "# Well since we already have this ordinal data, we could using the order to make the boolean mask\n",
    "df = df[df['Grades']>'C']\n",
    "df"
   ]
  },
  {
   "cell_type": "code",
   "execution_count": 9,
   "metadata": {
    "scrolled": true
   },
   "outputs": [
    {
     "name": "stderr",
     "output_type": "stream",
     "text": [
      "/Library/Frameworks/Python.framework/Versions/3.7/lib/python3.7/site-packages/ipykernel_launcher.py:3: FutureWarning: specifying 'categories' or 'ordered' in .astype() is deprecated; pass a CategoricalDtype instead\n",
      "  This is separate from the ipykernel package so we can avoid doing imports until\n"
     ]
    },
    {
     "data": {
      "text/plain": [
       "0       Low\n",
       "1       Low\n",
       "2      High\n",
       "3    Medium\n",
       "4       Low\n",
       "5      High\n",
       "6       Low\n",
       "dtype: category\n",
       "Categories (3, object): [Low < Medium < High]"
      ]
     },
     "execution_count": 9,
     "metadata": {},
     "output_type": "execute_result"
    }
   ],
   "source": [
    "# Exercise 1\n",
    "s = pd.Series(['Low','Low','High','Medium','Low','High','Low'])\n",
    "level = s.astype('category',categories = ['Low','Medium','High'],ordered = True)\n",
    "level\n",
    "# the schema is df = df.astype('category', categories = [.. , .. , .., ..], ordered =True),\n",
    "# then the actually order is the order within the list"
   ]
  },
  {
   "cell_type": "code",
   "execution_count": 14,
   "metadata": {
    "scrolled": true
   },
   "outputs": [
    {
     "name": "stdout",
     "output_type": "stream",
     "text": [
      "STNAME\n",
      "Alabama                   (11706.087, 75333.413]\n",
      "Alaska                    (11706.087, 75333.413]\n",
      "Arizona                 (390320.176, 453317.529]\n",
      "Arkansas                  (11706.087, 75333.413]\n",
      "California              (579312.234, 642309.586]\n",
      "Colorado                 (75333.413, 138330.766]\n",
      "Connecticut             (390320.176, 453317.529]\n",
      "Delaware                (264325.471, 327322.823]\n",
      "District of Columbia    (579312.234, 642309.586]\n",
      "Florida                 (264325.471, 327322.823]\n",
      "Georgia                   (11706.087, 75333.413]\n",
      "Hawaii                  (264325.471, 327322.823]\n",
      "Idaho                     (11706.087, 75333.413]\n",
      "Illinois                 (75333.413, 138330.766]\n",
      "Indiana                   (11706.087, 75333.413]\n",
      "Iowa                      (11706.087, 75333.413]\n",
      "Kansas                    (11706.087, 75333.413]\n",
      "Kentucky                  (11706.087, 75333.413]\n",
      "Louisiana                 (11706.087, 75333.413]\n",
      "Maine                    (75333.413, 138330.766]\n",
      "Maryland                (201328.118, 264325.471]\n",
      "Massachusetts           (453317.529, 516314.881]\n",
      "Michigan                 (75333.413, 138330.766]\n",
      "Minnesota                 (11706.087, 75333.413]\n",
      "Mississippi               (11706.087, 75333.413]\n",
      "Missouri                  (11706.087, 75333.413]\n",
      "Montana                   (11706.087, 75333.413]\n",
      "Nebraska                  (11706.087, 75333.413]\n",
      "Nevada                  (138330.766, 201328.118]\n",
      "New Hampshire            (75333.413, 138330.766]\n",
      "New Jersey              (390320.176, 453317.529]\n",
      "New Mexico                (11706.087, 75333.413]\n",
      "New York                (264325.471, 327322.823]\n",
      "North Carolina           (75333.413, 138330.766]\n",
      "North Dakota              (11706.087, 75333.413]\n",
      "Ohio                     (75333.413, 138330.766]\n",
      "Oklahoma                  (11706.087, 75333.413]\n",
      "Oregon                   (75333.413, 138330.766]\n",
      "Pennsylvania            (138330.766, 201328.118]\n",
      "Rhode Island            (201328.118, 264325.471]\n",
      "South Carolina           (75333.413, 138330.766]\n",
      "South Dakota              (11706.087, 75333.413]\n",
      "Tennessee                 (11706.087, 75333.413]\n",
      "Texas                    (75333.413, 138330.766]\n",
      "Utah                     (75333.413, 138330.766]\n",
      "Vermont                   (11706.087, 75333.413]\n",
      "Virginia                  (11706.087, 75333.413]\n",
      "Washington              (138330.766, 201328.118]\n",
      "West Virginia             (11706.087, 75333.413]\n",
      "Wisconsin                (75333.413, 138330.766]\n",
      "Wyoming                   (11706.087, 75333.413]\n",
      "Name: avg, dtype: category\n",
      "Categories (10, interval[float64]): [(11706.087, 75333.413] < (75333.413, 138330.766] < (138330.766, 201328.118] < (201328.118, 264325.471] ... (390320.176, 453317.529] < (453317.529, 516314.881] < (516314.881, 579312.234] < (579312.234, 642309.586]]\n"
     ]
    },
    {
     "name": "stderr",
     "output_type": "stream",
     "text": [
      "/Library/Frameworks/Python.framework/Versions/3.7/lib/python3.7/site-packages/ipykernel_launcher.py:4: FutureWarning: using a dict on a Series for aggregation\n",
      "is deprecated and will be removed in a future version\n",
      "  after removing the cwd from sys.path.\n"
     ]
    }
   ],
   "source": [
    "import numpy as np\n",
    "df = pd.read_csv('census.csv')\n",
    "df = df[df['SUMLEV'] == 50]\n",
    "df = df.set_index('STNAME').groupby(level = 0)['CENSUS2010POP'].agg({'avg':np.average})\n",
    "# this will cut the df into n bins, each with equal length of interval,\n",
    "# and the output will gives back the index of each data and which interval they belongs to\n",
    "print(pd.cut(df['avg'],10))"
   ]
  },
  {
   "cell_type": "code",
   "execution_count": 21,
   "metadata": {},
   "outputs": [
    {
     "data": {
      "text/plain": [
       "0     (167.978, 175.333]\n",
       "1     (175.333, 182.667]\n",
       "2     (167.978, 175.333]\n",
       "3       (182.667, 190.0]\n",
       "4     (167.978, 175.333]\n",
       "5       (182.667, 190.0]\n",
       "6     (175.333, 182.667]\n",
       "7     (175.333, 182.667]\n",
       "8     (167.978, 175.333]\n",
       "9     (167.978, 175.333]\n",
       "10    (175.333, 182.667]\n",
       "11    (175.333, 182.667]\n",
       "12    (175.333, 182.667]\n",
       "13    (167.978, 175.333]\n",
       "dtype: category\n",
       "Categories (3, interval[float64]): [(167.978, 175.333] < (175.333, 182.667] < (182.667, 190.0]]"
      ]
     },
     "execution_count": 21,
     "metadata": {},
     "output_type": "execute_result"
    }
   ],
   "source": [
    "# Exercise 2\n",
    "# Suppose we have a series that holds height data for jacket weares. Use pd.cut to bin this data\n",
    "# into 3 bins\n",
    "s = pd.Series([168,180,174,190,170,185,179,181,175,169,182,177,180,171])\n",
    "pd.cut(s,3)"
   ]
  }
 ],
 "metadata": {
  "kernelspec": {
   "display_name": "Python 3",
   "language": "python",
   "name": "python3"
  },
  "language_info": {
   "codemirror_mode": {
    "name": "ipython",
    "version": 3
   },
   "file_extension": ".py",
   "mimetype": "text/x-python",
   "name": "python",
   "nbconvert_exporter": "python",
   "pygments_lexer": "ipython3",
   "version": "3.7.0"
  }
 },
 "nbformat": 4,
 "nbformat_minor": 2
}
